{
 "cells": [
  {
   "cell_type": "code",
   "execution_count": 44,
   "metadata": {},
   "outputs": [],
   "source": [
    "import numpy as np\n",
    "from sklearn.model_selection import train_test_split\n",
    "from matplotlib import pyplot as plt\n",
    "from collections import Counter\n",
    "from sklearn.metrics.pairwise import cosine_similarity as cos\n",
    "import time\n",
    "from itertools import chain\n",
    "import random\n",
    "from operator import itemgetter"
   ]
  },
  {
   "cell_type": "code",
   "execution_count": 3,
   "metadata": {},
   "outputs": [
    {
     "name": "stdout",
     "output_type": "stream",
     "text": [
      "(60000, 784)\n",
      "(10000, 784)\n",
      "(60000,)\n",
      "(10000,)\n"
     ]
    }
   ],
   "source": [
    "#Read data\n",
    "x_train = np.load('../exam_19S/pb1/x_train.npy')\n",
    "print(np.shape(x_train))\n",
    "# (60000, 784)\n",
    "x_test = np.load('../exam_19S/pb1/x_test_usetodebug.npy')\n",
    "print(np.shape(x_test))\n",
    "# (10000, 784)\n",
    "y_train = np.load('../exam_19S/pb1/y_train.npy')\n",
    "print(np.shape(y_train))\n",
    "# (60000,)\n",
    "y_test = np.load('../exam_19S/pb1/y_test.npy')\n",
    "print(np.shape(y_test))\n",
    "# (10000,)"
   ]
  },
  {
   "cell_type": "code",
   "execution_count": 29,
   "metadata": {},
   "outputs": [],
   "source": [
    "for i in range(10):\n",
    "    index=y_train==i\n",
    "    val=int(sum(index)*0.2)\n",
    "    if i == 0:\n",
    "        mnist_train=x_train[index][:val]\n",
    "        train_label=y_train[index][:val]\n",
    "    else:\n",
    "        mnist_train=np.vstack((mnist_train,x_train[index][:val]))\n",
    "        train_label=np.append(train_label,y_train[index][:val])"
   ]
  },
  {
   "cell_type": "code",
   "execution_count": null,
   "metadata": {},
   "outputs": [],
   "source": []
  },
  {
   "cell_type": "code",
   "execution_count": 5,
   "metadata": {},
   "outputs": [],
   "source": [
    "def decision_stump(data,y,dist,random):\n",
    "    \n",
    "    best_f=None\n",
    "    max_error=0.5\n",
    "    best_t=None\n",
    "    best_pred=None\n",
    "    if random:\n",
    "        best_f=np.random.randint(data.shape[1])\n",
    "        best_t,max_error,best_pred=best_threshold(data[:,best_f],y,dist)\n",
    "    else:\n",
    "        for f in range(data.shape[1]):\n",
    "            t,error,pred=best_threshold(data[:,f],y,dist)\n",
    "    #         print(error)\n",
    "            if(abs(0.5-error)>abs(0.5-max_error)):\n",
    "                max_error=error\n",
    "                best_f=f\n",
    "                best_t=t\n",
    "                best_pred=pred\n",
    "                if(abs(0.5-max_error)>0.35):\n",
    "                    break\n",
    "    return best_f,best_t,max_error,best_pred"
   ]
  },
  {
   "cell_type": "code",
   "execution_count": 6,
   "metadata": {},
   "outputs": [],
   "source": [
    "def thresholds(a):\n",
    "    u=np.unique(a)\n",
    "    u.sort()\n",
    "    t=[(u[i*3-1]+u[i*3])/2 for i in range(1,int(len(u)/3))]\n",
    "    return [u.min()]+t+[u.max()]"
   ]
  },
  {
   "cell_type": "code",
   "execution_count": 7,
   "metadata": {},
   "outputs": [],
   "source": [
    "def best_threshold(x,y,d):\n",
    "    max_error=0.5\n",
    "    best_t=None\n",
    "    best_pred=None\n",
    "    weighted_x=x\n",
    "    t=thresholds(weighted_x)\n",
    "    for i in t:\n",
    "        pred=np.ones(len(y))\n",
    "        pred[weighted_x<i]=-1.0\n",
    "        error=sum(d[pred!=y])\n",
    "        if(abs(0.5-error)>abs(0.5-max_error)):\n",
    "            max_error=error\n",
    "            best_t=i\n",
    "            best_pred=pred\n",
    "    return best_t,max_error,best_pred"
   ]
  },
  {
   "cell_type": "code",
   "execution_count": 8,
   "metadata": {},
   "outputs": [],
   "source": [
    "def predict(x_f,alpha,t):\n",
    "    val=np.ones(len(x_f))\n",
    "    val[x_f<t]=-1.0\n",
    "    return alpha*val"
   ]
  },
  {
   "cell_type": "code",
   "execution_count": 9,
   "metadata": {},
   "outputs": [],
   "source": [
    "def generate_roc(actual,log_odds):\n",
    "    index=[min(log_odds)]+[np.mean(i) for i in np.array_split(log_odds,10)]+[max(log_odds)]\n",
    "    tpr=[]\n",
    "    fpr=[]\n",
    "    for k in index:\n",
    "        ans=[1.0 if i> k else -1. for i in log_odds]\n",
    "        matrix=confusion_matrix(actual,ans)\n",
    "        tpr.append(matrix[0,0]/sum(matrix[0]))\n",
    "        fpr.append(matrix[1,0]/sum(matrix[1]))\n",
    "    tpr.sort()\n",
    "    fpr.sort()\n",
    "    return tpr,fpr"
   ]
  },
  {
   "cell_type": "code",
   "execution_count": 10,
   "metadata": {},
   "outputs": [],
   "source": [
    "def confusion_matrix(actual,pred):\n",
    "    tp=0\n",
    "    tn=0\n",
    "    fp=0\n",
    "    fn=0\n",
    "    for i in range(len(actual)):\n",
    "        if actual[i]==-1.:\n",
    "            if actual[i]==pred[i]:\n",
    "                tn+=1\n",
    "            else:\n",
    "                fp+=1\n",
    "        elif actual[i]==1. :\n",
    "            if actual[i]==pred[i]:\n",
    "                tp+=1\n",
    "            else:\n",
    "                fn+=1\n",
    "    return np.array([[tp,fn],[fp,tn]])"
   ]
  },
  {
   "cell_type": "code",
   "execution_count": 11,
   "metadata": {},
   "outputs": [],
   "source": [
    "def calculate_auc(x,y):\n",
    "    val=0.0\n",
    "    for i in range(1,len(x)):\n",
    "        val+= (x[i]-x[i-1])*(y[i]+y[i-1])\n",
    "    return val/2"
   ]
  },
  {
   "cell_type": "code",
   "execution_count": 81,
   "metadata": {},
   "outputs": [],
   "source": [
    "def adaboost(x_train,x_test,y_train,y_test,epochs,random):\n",
    "    model=[]\n",
    "    local_error=[]\n",
    "    train_we=[]\n",
    "    test_we=[]\n",
    "    test_auc=[]\n",
    "    fx_val_train=np.zeros(len(x_train))\n",
    "    fx_val_test=np.zeros(len(x_test))\n",
    "    dt=np.ones(len(x_train))/len(x_train)\n",
    "    for t in range(1,epochs+1):\n",
    "\n",
    "        f,thresh,error,pred= decision_stump(x_train,y_train,dt,random)   #1 round error\n",
    "        \n",
    "        local_error.append(error)\n",
    "        alpha = np.log((1-error)/error)/2\n",
    "        \n",
    "        model.append((alpha,(f,thresh)))\n",
    "        \n",
    "        fx_val_train+=predict(x_train[:,f],alpha,thresh)\n",
    "        fx_val_test+=predict(x_test[:,f],alpha,thresh)\n",
    "        \n",
    "        update=np.exp(-alpha*pred*y_train)\n",
    "#         print(pred*y_train)\n",
    "#         print(update)\n",
    "        dt=dt*update\n",
    "        dt=dt/sum(dt)\n",
    "        \n",
    "        pred_train=np.ones(len(y_train))\n",
    "        pred_train[fx_val_train<0]=-1.0\n",
    "        \n",
    "        err_train=np.mean(pred_train!=y_train)\n",
    "        train_we.append(err_train)\n",
    "        \n",
    "        pred_test=np.ones(len(y_test))\n",
    "        pred_test[fx_val_test<0]=-1.0\n",
    "        \n",
    "        err_test=np.mean(pred_test!=y_test)\n",
    "        test_we.append(err_test)\n",
    "        \n",
    "        tpr,fpr=generate_roc(y_test,fx_val_test)\n",
    "        \n",
    "        auc=calculate_auc(fpr,tpr)\n",
    "        test_auc.append(auc)\n",
    "        if t%100 is 0:\n",
    "            print(\"Round:\",t,\",Feature:\",f,\",Threshold:\",thresh,\",Round_err:\",error,\",Train_err:\",err_train,\",Test_err:\",err_test,\"AUC:\",auc)\n",
    "    return model, pred_test"
   ]
  },
  {
   "cell_type": "code",
   "execution_count": 13,
   "metadata": {},
   "outputs": [],
   "source": [
    "def ecoc(train, test,classes,functions):\n",
    "    \n",
    "    codes=np.array([np.random.choice((-1.,1.),size=functions) for i in range(classes)])\n",
    "    \n",
    "    \n",
    "\n",
    "    for i in range(functions):\n",
    "        x_train=train[:,:-1].copy()\n",
    "        x_test=test[:,:-1].copy()\n",
    "        print(i)\n",
    "        y_train=np.array([codes[:,i][int(l)] for l in train[:,-1]])\n",
    "        y_test=np.array([codes[:,i][int(l)] for l in test[:,-1]])\n",
    "        \n",
    "        m,pred=adaboost(x_train,x_test,y_train,y_test,200,False)\n",
    "        \n",
    "        if i==0:\n",
    "            predictions=pred.reshape((len(pred),1))\n",
    "        else:\n",
    "            predictions=np.hstack((predictions,pred.reshape((len(pred),1))))\n",
    "    \n",
    "    return predictions,codes"
   ]
  },
  {
   "cell_type": "code",
   "execution_count": 14,
   "metadata": {},
   "outputs": [],
   "source": [
    "def black(img):\n",
    "    black=np.zeros((29,29))\n",
    "    for i in range(len(img)):\n",
    "        for j in range(len(img)):\n",
    "            val=1 if img[i][j]==0 else 0\n",
    "            black[i][j]=black[i-1][j]+black[i][j-1]-black[i-1][j-1]+val\n",
    "    return black"
   ]
  },
  {
   "cell_type": "code",
   "execution_count": 15,
   "metadata": {},
   "outputs": [],
   "source": [
    "def generate():\n",
    "    rect=set()\n",
    "    random.seed()\n",
    "    while(len(rect)!=100):\n",
    "        x=(random.randint(0,28),random.randint(0,28),random.randint(5,28),random.randint(5,28))\n",
    "        area=x[2]*x[3]\n",
    "        if(area in range(130,171) and x[0]+x[2]<28 and x[1]+x[3]<28):\n",
    "            rect.add(x)\n",
    "    return rect"
   ]
  },
  {
   "cell_type": "code",
   "execution_count": 16,
   "metadata": {},
   "outputs": [],
   "source": [
    "def featureVal(r,black):\n",
    "    x=r[0]\n",
    "    y=r[1]\n",
    "    l=r[2]\n",
    "    w=r[3]\n",
    "    f1=black[x+int(l/2)][y+w]-black[x+int(l/2)][y]-black[x][y+w]+black[x][y]\\\n",
    "    -(black[x+l][y+w]-black[x+int(l/2)+1][y+w]-black[x+l][y]+black[x+int(l/2)+1][y])\n",
    "    f2=black[x+l][y+int(w/2)]-black[x+l][y]-black[x][y+int(w/2)]+black[x][y]\\\n",
    "    -(black[x+l][y+w]-black[x][y+w]-black[x+l][y+int(w/2)+1]+black[x][y+int(w/2)+1])\n",
    "    return f1,f2"
   ]
  },
  {
   "cell_type": "code",
   "execution_count": 17,
   "metadata": {},
   "outputs": [],
   "source": [
    "def formFeatures(black,rect):\n",
    "    feat=np.asarray(list(chain.from_iterable((featureVal(r,black)) for r in rect)))\n",
    "    return feat"
   ]
  },
  {
   "cell_type": "code",
   "execution_count": 37,
   "metadata": {},
   "outputs": [],
   "source": [
    "black_train=np.asarray([black(img.reshape(28,28)) for img in mnist_train])"
   ]
  },
  {
   "cell_type": "code",
   "execution_count": 38,
   "metadata": {},
   "outputs": [],
   "source": [
    "black_test=np.asarray([black(img.reshape(28,28)) for img in x_test])"
   ]
  },
  {
   "cell_type": "code",
   "execution_count": 42,
   "metadata": {},
   "outputs": [],
   "source": [
    "arr=generate()"
   ]
  },
  {
   "cell_type": "code",
   "execution_count": 45,
   "metadata": {},
   "outputs": [],
   "source": [
    "trainData=np.vstack([formFeatures(black,arr) for black in black_train])"
   ]
  },
  {
   "cell_type": "code",
   "execution_count": 46,
   "metadata": {},
   "outputs": [],
   "source": [
    "testData=np.vstack([formFeatures(black,arr) for black in black_test])"
   ]
  },
  {
   "cell_type": "code",
   "execution_count": 73,
   "metadata": {},
   "outputs": [],
   "source": [
    "final_train=np.hstack((trainData,train_label.reshape(-1,1)))"
   ]
  },
  {
   "cell_type": "code",
   "execution_count": 74,
   "metadata": {},
   "outputs": [],
   "source": [
    "final_test=np.hstack((testData,y_test.reshape(-1,1)))"
   ]
  },
  {
   "cell_type": "code",
   "execution_count": 75,
   "metadata": {},
   "outputs": [],
   "source": [
    "np.random.shuffle(final_train)"
   ]
  },
  {
   "cell_type": "code",
   "execution_count": 82,
   "metadata": {
    "scrolled": false
   },
   "outputs": [
    {
     "name": "stdout",
     "output_type": "stream",
     "text": [
      "0\n",
      "Round: 100 ,Feature: 23 ,Threshold: 18.5 ,Round_err: 0.46677172716053356 ,Train_err: 0.06993997999333111 ,Test_err: 0.0856 AUC: 0.9096208447303042\n",
      "Round: 200 ,Feature: 76 ,Threshold: 12.5 ,Round_err: 0.46853782611101663 ,Train_err: 0.05351783927975992 ,Test_err: 0.0706 AUC: 0.9237564501437485\n",
      "Round: 300 ,Feature: 4 ,Threshold: 17.5 ,Round_err: 0.5227672783467556 ,Train_err: 0.04751583861287096 ,Test_err: 0.063 AUC: 0.93018170278794\n",
      "1\n",
      "Round: 100 ,Feature: 28 ,Threshold: 6.5 ,Round_err: 0.5392049321379633 ,Train_err: 0.058686228742914306 ,Test_err: 0.0564 AUC: 0.9498532039489349\n",
      "Round: 200 ,Feature: 13 ,Threshold: 10.5 ,Round_err: 0.528517315811917 ,Train_err: 0.04434811603867956 ,Test_err: 0.0485 AUC: 0.9567822992119028\n",
      "Round: 300 ,Feature: 45 ,Threshold: -1.5 ,Round_err: 0.47165433358346326 ,Train_err: 0.039179726575525174 ,Test_err: 0.0467 AUC: 0.9591659697524842\n",
      "2\n",
      "Round: 100 ,Feature: 18 ,Threshold: 15.5 ,Round_err: 0.5416639000359281 ,Train_err: 0.05801933977992664 ,Test_err: 0.0611 AUC: 0.935598704680736\n",
      "Round: 200 ,Feature: 18 ,Threshold: -5.5 ,Round_err: 0.46971686480994396 ,Train_err: 0.04668222740913638 ,Test_err: 0.0519 AUC: 0.945971869926948\n",
      "Round: 300 ,Feature: 184 ,Threshold: 13.5 ,Round_err: 0.524981053946985 ,Train_err: 0.03901300433477826 ,Test_err: 0.0476 AUC: 0.9516352982954546\n",
      "3\n",
      "Round: 100 ,Feature: 94 ,Threshold: 3.5 ,Round_err: 0.46765998754345434 ,Train_err: 0.05835278426142047 ,Test_err: 0.0608 AUC: 0.936226492600817\n",
      "Round: 200 ,Feature: 80 ,Threshold: 16.5 ,Round_err: 0.4713324815749853 ,Train_err: 0.04543181060353451 ,Test_err: 0.0506 AUC: 0.9457346598307291\n",
      "Round: 300 ,Feature: 131 ,Threshold: 16.5 ,Round_err: 0.46984230908250285 ,Train_err: 0.040263421140380125 ,Test_err: 0.0467 AUC: 0.9495286954718837\n",
      "4\n",
      "Round: 100 ,Feature: 68 ,Threshold: -8.5 ,Round_err: 0.46646902191787376 ,Train_err: 0.08652884294764922 ,Test_err: 0.0942 AUC: 0.908342322038194\n",
      "Round: 200 ,Feature: 42 ,Threshold: -20.5 ,Round_err: 0.5273275449159356 ,Train_err: 0.0681893964654885 ,Test_err: 0.0817 AUC: 0.9191734863374826\n",
      "Round: 300 ,Feature: 178 ,Threshold: 18.5 ,Round_err: 0.4780005353342346 ,Train_err: 0.06077025675225075 ,Test_err: 0.0781 AUC: 0.9223927972116781\n",
      "5\n",
      "Round: 100 ,Feature: 158 ,Threshold: -4.5 ,Round_err: 0.465507743131626 ,Train_err: 0.08861287095698567 ,Test_err: 0.0965 AUC: 0.8823012386110328\n",
      "Round: 200 ,Feature: 84 ,Threshold: 23.5 ,Round_err: 0.5245328856172187 ,Train_err: 0.0681893964654885 ,Test_err: 0.0797 AUC: 0.8934217808675278\n",
      "Round: 300 ,Feature: 90 ,Threshold: 19.5 ,Round_err: 0.47370730331827815 ,Train_err: 0.06010336778926309 ,Test_err: 0.0749 AUC: 0.8983468815364137\n",
      "6\n",
      "Round: 100 ,Feature: 180 ,Threshold: 11.5 ,Round_err: 0.5473532737124596 ,Train_err: 0.03392797599199733 ,Test_err: 0.0392 AUC: 0.9003656560998863\n",
      "Round: 200 ,Feature: 20 ,Threshold: -5.5 ,Round_err: 0.46627982496464565 ,Train_err: 0.024674891630543514 ,Test_err: 0.0304 AUC: 0.9015165666955558\n",
      "Round: 300 ,Feature: 99 ,Threshold: -15.5 ,Round_err: 0.47133673482551164 ,Train_err: 0.019589863287762587 ,Test_err: 0.0271 AUC: 0.9019773304124471\n",
      "7\n",
      "Round: 100 ,Feature: 58 ,Threshold: -4.5 ,Round_err: 0.45642705853107546 ,Train_err: 0.057185728576192064 ,Test_err: 0.0659 AUC: 0.9333967112581162\n",
      "Round: 200 ,Feature: 184 ,Threshold: -19.5 ,Round_err: 0.5315098747712124 ,Train_err: 0.04159719906635545 ,Test_err: 0.0546 AUC: 0.9424908155807756\n",
      "Round: 300 ,Feature: 84 ,Threshold: 26.5 ,Round_err: 0.47691221807997475 ,Train_err: 0.03717905968656219 ,Test_err: 0.0497 AUC: 0.9460445815261119\n",
      "8\n",
      "Round: 100 ,Feature: 98 ,Threshold: 15.5 ,Round_err: 0.5527946708789097 ,Train_err: 0.014254751583861287 ,Test_err: 0.0197 AUC: 0.853106912432836\n",
      "Round: 200 ,Feature: 142 ,Threshold: 25.5 ,Round_err: 0.5466184323703728 ,Train_err: 0.009753251083694564 ,Test_err: 0.0169 AUC: 0.8543731501842899\n",
      "Round: 300 ,Feature: 63 ,Threshold: -13.5 ,Round_err: 0.46236910724350755 ,Train_err: 0.006252084028009337 ,Test_err: 0.0162 AUC: 0.8558143208583144\n",
      "9\n",
      "Round: 100 ,Feature: 87 ,Threshold: 34.5 ,Round_err: 0.529523149104633 ,Train_err: 0.06518839613204401 ,Test_err: 0.0679 AUC: 0.8760446708334301\n",
      "Round: 200 ,Feature: 139 ,Threshold: -0.5 ,Round_err: 0.532391728868507 ,Train_err: 0.05343447815938646 ,Test_err: 0.0603 AUC: 0.8789221920061321\n",
      "Round: 300 ,Feature: 66 ,Threshold: 4.5 ,Round_err: 0.5266354925046971 ,Train_err: 0.04718239413137713 ,Test_err: 0.0556 AUC: 0.8827177069705191\n",
      "10\n",
      "Round: 100 ,Feature: 86 ,Threshold: 15.5 ,Round_err: 0.4625748659995666 ,Train_err: 0.08652884294764922 ,Test_err: 0.1034 AUC: 0.9020145949148641\n",
      "Round: 200 ,Feature: 160 ,Threshold: -0.5 ,Round_err: 0.5289969131133632 ,Train_err: 0.07027342447482494 ,Test_err: 0.0885 AUC: 0.9159176244590796\n",
      "Round: 300 ,Feature: 187 ,Threshold: 12.5 ,Round_err: 0.47386212029695535 ,Train_err: 0.060936978992997666 ,Test_err: 0.0824 AUC: 0.9198247794352018\n",
      "11\n",
      "Round: 100 ,Feature: 109 ,Threshold: -9.5 ,Round_err: 0.46889844137323783 ,Train_err: 0.0798599533177726 ,Test_err: 0.0907 AUC: 0.8893953319391947\n",
      "Round: 200 ,Feature: 88 ,Threshold: 30.5 ,Round_err: 0.5274366217549701 ,Train_err: 0.06593864621540514 ,Test_err: 0.081 AUC: 0.8967936224420662\n",
      "Round: 300 ,Feature: 66 ,Threshold: 4.5 ,Round_err: 0.4782755899740921 ,Train_err: 0.05626875625208403 ,Test_err: 0.0754 AUC: 0.9009392456153195\n",
      "12\n",
      "Round: 100 ,Feature: 59 ,Threshold: 3.5 ,Round_err: 0.4488049972945149 ,Train_err: 0.044598199399799934 ,Test_err: 0.0518 AUC: 0.9539196919004129\n",
      "Round: 200 ,Feature: 170 ,Threshold: 6.5 ,Round_err: 0.5294263790990174 ,Train_err: 0.03392797599199733 ,Test_err: 0.0454 AUC: 0.9606599504099324\n",
      "Round: 300 ,Feature: 165 ,Threshold: -5.5 ,Round_err: 0.47471157546216647 ,Train_err: 0.028509503167722574 ,Test_err: 0.0407 AUC: 0.9654699061542591\n",
      "13\n",
      "Round: 100 ,Feature: 46 ,Threshold: 8.5 ,Round_err: 0.543397312298345 ,Train_err: 0.0575191730576859 ,Test_err: 0.0563 AUC: 0.9482028199219\n",
      "Round: 200 ,Feature: 23 ,Threshold: 9.5 ,Round_err: 0.4657955848729755 ,Train_err: 0.045015005001667226 ,Test_err: 0.0514 AUC: 0.9546055190128673\n",
      "Round: 300 ,Feature: 159 ,Threshold: 11.5 ,Round_err: 0.528976882879576 ,Train_err: 0.04159719906635545 ,Test_err: 0.0474 AUC: 0.9554167466871519\n",
      "14\n",
      "Round: 100 ,Feature: 40 ,Threshold: 16.5 ,Round_err: 0.5402524686146518 ,Train_err: 0.06385461820606869 ,Test_err: 0.0732 AUC: 0.9035195538977727\n",
      "Round: 200 ,Feature: 178 ,Threshold: 18.5 ,Round_err: 0.4695845898424874 ,Train_err: 0.04826608869623208 ,Test_err: 0.06 AUC: 0.9114419973335823\n",
      "Round: 300 ,Feature: 145 ,Threshold: 6.5 ,Round_err: 0.4757118147727559 ,Train_err: 0.04326442147382461 ,Test_err: 0.056 AUC: 0.9135054616529624\n",
      "15\n",
      "Round: 100 ,Feature: 38 ,Threshold: 4.5 ,Round_err: 0.45910154747296933 ,Train_err: 0.08111037012337446 ,Test_err: 0.0952 AUC: 0.9170860160804665\n",
      "Round: 200 ,Feature: 107 ,Threshold: 28.5 ,Round_err: 0.5242010017178478 ,Train_err: 0.06443814604868289 ,Test_err: 0.0819 AUC: 0.9296887412710616\n",
      "Round: 300 ,Feature: 132 ,Threshold: 5.5 ,Round_err: 0.5220974950201305 ,Train_err: 0.05518506168722908 ,Test_err: 0.0734 AUC: 0.9356830994938817\n",
      "16\n",
      "Round: 100 ,Feature: 7 ,Threshold: 30.5 ,Round_err: 0.536504070788306 ,Train_err: 0.06535511837279093 ,Test_err: 0.075 AUC: 0.9358575175713691\n",
      "Round: 200 ,Feature: 40 ,Threshold: 10.5 ,Round_err: 0.5219412769395056 ,Train_err: 0.05076692230743581 ,Test_err: 0.0644 AUC: 0.944972172106951\n",
      "Round: 300 ,Feature: 101 ,Threshold: 14.5 ,Round_err: 0.524002032616005 ,Train_err: 0.04384794931643881 ,Test_err: 0.0596 AUC: 0.9477047383562817\n",
      "17\n",
      "Round: 100 ,Feature: 52 ,Threshold: -1.5 ,Round_err: 0.5439077490656852 ,Train_err: 0.021507169056352117 ,Test_err: 0.027 AUC: 0.9158737103832021\n",
      "Round: 200 ,Feature: 199 ,Threshold: -6.5 ,Round_err: 0.45926350903709473 ,Train_err: 0.016755585195065023 ,Test_err: 0.024 AUC: 0.9192858059795739\n",
      "Round: 300 ,Feature: 101 ,Threshold: 17.5 ,Round_err: 0.5329102646210311 ,Train_err: 0.012920973657885962 ,Test_err: 0.0238 AUC: 0.9169729571559971\n",
      "18\n",
      "Round: 100 ,Feature: 109 ,Threshold: -9.5 ,Round_err: 0.46889844137323783 ,Train_err: 0.0798599533177726 ,Test_err: 0.0907 AUC: 0.8893953319391947\n",
      "Round: 200 ,Feature: 88 ,Threshold: 30.5 ,Round_err: 0.5274366217549701 ,Train_err: 0.06593864621540514 ,Test_err: 0.081 AUC: 0.8967936224420662\n"
     ]
    },
    {
     "name": "stdout",
     "output_type": "stream",
     "text": [
      "Round: 300 ,Feature: 66 ,Threshold: 4.5 ,Round_err: 0.4782755899740921 ,Train_err: 0.05626875625208403 ,Test_err: 0.0754 AUC: 0.9009392456153195\n",
      "19\n",
      "Round: 100 ,Feature: 146 ,Threshold: -3.5 ,Round_err: 0.5430570662425003 ,Train_err: 0.05685228409469823 ,Test_err: 0.0609 AUC: 0.9261632838177322\n",
      "Round: 200 ,Feature: 20 ,Threshold: 30.5 ,Round_err: 0.46986362469742027 ,Train_err: 0.04276425475158386 ,Test_err: 0.0485 AUC: 0.9310686364107068\n",
      "Round: 300 ,Feature: 21 ,Threshold: 34.5 ,Round_err: 0.47345000420546723 ,Train_err: 0.03542847615871957 ,Test_err: 0.0445 AUC: 0.9356502811741803\n",
      "20\n",
      "Round: 100 ,Feature: 105 ,Threshold: -14.5 ,Round_err: 0.5355229267409519 ,Train_err: 0.07994331443814605 ,Test_err: 0.0894 AUC: 0.8808270264822653\n",
      "Round: 200 ,Feature: 174 ,Threshold: 4.5 ,Round_err: 0.4755825526068658 ,Train_err: 0.06527175725241748 ,Test_err: 0.0774 AUC: 0.8822124347246217\n",
      "Round: 300 ,Feature: 50 ,Threshold: 24.5 ,Round_err: 0.5216876115114012 ,Train_err: 0.05735245081693898 ,Test_err: 0.0727 AUC: 0.8876630382130256\n",
      "21\n",
      "Round: 100 ,Feature: 122 ,Threshold: 14.5 ,Round_err: 0.464410164485308 ,Train_err: 0.09994998332777592 ,Test_err: 0.1123 AUC: 0.9017594158347424\n",
      "Round: 200 ,Feature: 192 ,Threshold: 11.5 ,Round_err: 0.5230933063308967 ,Train_err: 0.07860953651217073 ,Test_err: 0.095 AUC: 0.9167432506892562\n",
      "Round: 300 ,Feature: 161 ,Threshold: -5.5 ,Round_err: 0.4793694574101509 ,Train_err: 0.0681893964654885 ,Test_err: 0.0884 AUC: 0.9248585837272536\n",
      "22\n",
      "Round: 100 ,Feature: 63 ,Threshold: -16.5 ,Round_err: 0.5478859090336624 ,Train_err: 0.04876625541847283 ,Test_err: 0.0535 AUC: 0.9176352015600027\n",
      "Round: 200 ,Feature: 115 ,Threshold: 7.5 ,Round_err: 0.47086996837997674 ,Train_err: 0.03976325441813938 ,Test_err: 0.0451 AUC: 0.9221925468884382\n",
      "Round: 300 ,Feature: 192 ,Threshold: 20.5 ,Round_err: 0.5287461506585266 ,Train_err: 0.03292764254751584 ,Test_err: 0.0392 AUC: 0.9262723456989437\n",
      "23\n",
      "Round: 100 ,Feature: 42 ,Threshold: 15.5 ,Round_err: 0.46738914393273373 ,Train_err: 0.06110370123374458 ,Test_err: 0.0666 AUC: 0.9299803234759134\n",
      "Round: 200 ,Feature: 39 ,Threshold: 11.5 ,Round_err: 0.5326460661120367 ,Train_err: 0.049016338779593195 ,Test_err: 0.0558 AUC: 0.9397096488909893\n",
      "Round: 300 ,Feature: 21 ,Threshold: 28.5 ,Round_err: 0.5288674966361614 ,Train_err: 0.04151383794598199 ,Test_err: 0.0509 AUC: 0.9428248412236292\n",
      "24\n",
      "Round: 100 ,Feature: 84 ,Threshold: 29.5 ,Round_err: 0.5349631837611833 ,Train_err: 0.08986328776258753 ,Test_err: 0.1014 AUC: 0.9076629401475398\n",
      "Round: 200 ,Feature: 164 ,Threshold: -5.5 ,Round_err: 0.524489072340658 ,Train_err: 0.07044014671557186 ,Test_err: 0.0861 AUC: 0.9199333549479447\n",
      "Round: 300 ,Feature: 37 ,Threshold: 6.5 ,Round_err: 0.4755362319406235 ,Train_err: 0.06243747915971991 ,Test_err: 0.0799 AUC: 0.9274589822720158\n",
      "25\n",
      "Round: 100 ,Feature: 3 ,Threshold: 10.5 ,Round_err: 0.5435872025202747 ,Train_err: 0.07144048016005335 ,Test_err: 0.0774 AUC: 0.9341194892756404\n",
      "Round: 200 ,Feature: 93 ,Threshold: -0.5 ,Round_err: 0.47404429191672565 ,Train_err: 0.057685895298432814 ,Test_err: 0.0664 AUC: 0.9471211055690051\n",
      "Round: 300 ,Feature: 126 ,Threshold: 24.5 ,Round_err: 0.5244943823556668 ,Train_err: 0.0495998666222074 ,Test_err: 0.0619 AUC: 0.9507750424573297\n",
      "26\n",
      "Round: 100 ,Feature: 105 ,Threshold: -5.5 ,Round_err: 0.5342350565456457 ,Train_err: 0.11512170723574525 ,Test_err: 0.1287 AUC: 0.881379909707594\n",
      "Round: 200 ,Feature: 98 ,Threshold: 15.5 ,Round_err: 0.5240079611990541 ,Train_err: 0.09519839946648882 ,Test_err: 0.1126 AUC: 0.893338365785689\n",
      "Round: 300 ,Feature: 105 ,Threshold: -8.5 ,Round_err: 0.5204607545759191 ,Train_err: 0.08469489829943315 ,Test_err: 0.1034 AUC: 0.9006340334674657\n",
      "27\n",
      "Round: 100 ,Feature: 174 ,Threshold: 19.5 ,Round_err: 0.4590653953511489 ,Train_err: 0.07060686895631878 ,Test_err: 0.0716 AUC: 0.9300673419576739\n",
      "Round: 200 ,Feature: 184 ,Threshold: 13.5 ,Round_err: 0.5336325382305063 ,Train_err: 0.05468489496498833 ,Test_err: 0.0607 AUC: 0.9385950742629682\n",
      "Round: 300 ,Feature: 19 ,Threshold: 29.5 ,Round_err: 0.4769213120209997 ,Train_err: 0.04809936645548516 ,Test_err: 0.0577 AUC: 0.9440664646834754\n",
      "28\n",
      "Round: 100 ,Feature: 162 ,Threshold: -24.5 ,Round_err: 0.4570535487734299 ,Train_err: 0.041347115705235075 ,Test_err: 0.0426 AUC: 0.9047587744573107\n",
      "Round: 200 ,Feature: 113 ,Threshold: -7.5 ,Round_err: 0.4664123727676951 ,Train_err: 0.03167722574191397 ,Test_err: 0.0347 AUC: 0.9112883990239337\n",
      "Round: 300 ,Feature: 158 ,Threshold: 49.5 ,Round_err: 0.5375736790742379 ,Train_err: 0.026425475158386127 ,Test_err: 0.0315 AUC: 0.9145362286097518\n",
      "29\n",
      "Round: 100 ,Feature: 48 ,Threshold: 0.5 ,Round_err: 0.4666810072886832 ,Train_err: 0.10095031677225742 ,Test_err: 0.115 AUC: 0.9018748056727536\n",
      "Round: 200 ,Feature: 85 ,Threshold: 5.5 ,Round_err: 0.4752735733248991 ,Train_err: 0.08036012004001333 ,Test_err: 0.097 AUC: 0.9168112383379151\n",
      "Round: 300 ,Feature: 115 ,Threshold: -7.5 ,Round_err: 0.4758055030271244 ,Train_err: 0.07069023007669223 ,Test_err: 0.093 AUC: 0.9220170985176588\n",
      "30\n",
      "Round: 100 ,Feature: 42 ,Threshold: -2.5 ,Round_err: 0.4638827671399982 ,Train_err: 0.10528509503167723 ,Test_err: 0.1178 AUC: 0.8962080781459277\n",
      "Round: 200 ,Feature: 92 ,Threshold: 7.5 ,Round_err: 0.4774288012970545 ,Train_err: 0.08561187062354118 ,Test_err: 0.0985 AUC: 0.9141659781461837\n",
      "Round: 300 ,Feature: 54 ,Threshold: 8.5 ,Round_err: 0.5208522994943113 ,Train_err: 0.07635878626208736 ,Test_err: 0.0899 AUC: 0.9217259450523841\n",
      "31\n",
      "Round: 100 ,Feature: 132 ,Threshold: 8.5 ,Round_err: 0.44952334201562966 ,Train_err: 0.02109036345448483 ,Test_err: 0.0328 AUC: 0.9471578773957934\n",
      "Round: 200 ,Feature: 105 ,Threshold: -5.5 ,Round_err: 0.5356535893789496 ,Train_err: 0.01533844614871624 ,Test_err: 0.0294 AUC: 0.9484994025566675\n",
      "Round: 300 ,Feature: 58 ,Threshold: -16.5 ,Round_err: 0.5345223329721144 ,Train_err: 0.012504168056018674 ,Test_err: 0.0275 AUC: 0.9505878801586989\n",
      "32\n",
      "Round: 100 ,Feature: 132 ,Threshold: 8.5 ,Round_err: 0.550476657984375 ,Train_err: 0.02109036345448483 ,Test_err: 0.0328 AUC: 0.9473317985755971\n",
      "Round: 200 ,Feature: 105 ,Threshold: -5.5 ,Round_err: 0.4643464106210494 ,Train_err: 0.01533844614871624 ,Test_err: 0.0294 AUC: 0.9486733000123982\n",
      "Round: 300 ,Feature: 58 ,Threshold: -16.5 ,Round_err: 0.4654776670278679 ,Train_err: 0.012504168056018674 ,Test_err: 0.0275 AUC: 0.9507621571995991\n",
      "33\n",
      "Round: 100 ,Feature: 28 ,Threshold: -2.5 ,Round_err: 0.44688741794576475 ,Train_err: 0.028176058686228744 ,Test_err: 0.0292 AUC: 0.9104160153070756\n",
      "Round: 200 ,Feature: 66 ,Threshold: 1.5 ,Round_err: 0.5440845439124633 ,Train_err: 0.0191730576858953 ,Test_err: 0.0245 AUC: 0.9129229507218375\n",
      "Round: 300 ,Feature: 18 ,Threshold: 12.5 ,Round_err: 0.4710303883485526 ,Train_err: 0.015088362787595865 ,Test_err: 0.0235 AUC: 0.915580173830606\n",
      "34\n",
      "Round: 100 ,Feature: 193 ,Threshold: -14.5 ,Round_err: 0.538652031297671 ,Train_err: 0.07952650883627876 ,Test_err: 0.0848 AUC: 0.9231170109396727\n",
      "Round: 200 ,Feature: 138 ,Threshold: 0.5 ,Round_err: 0.47510041906817746 ,Train_err: 0.06343781260420141 ,Test_err: 0.0735 AUC: 0.9343166892831416\n",
      "Round: 300 ,Feature: 74 ,Threshold: 4.5 ,Round_err: 0.520711466027819 ,Train_err: 0.05626875625208403 ,Test_err: 0.0673 AUC: 0.940227148983934\n",
      "35\n",
      "Round: 100 ,Feature: 184 ,Threshold: -13.5 ,Round_err: 0.4657235745816971 ,Train_err: 0.08411137045681893 ,Test_err: 0.0915 AUC: 0.9046458903297369\n",
      "Round: 200 ,Feature: 119 ,Threshold: -9.5 ,Round_err: 0.5259708006647346 ,Train_err: 0.0681893964654885 ,Test_err: 0.0822 AUC: 0.9157635707846796\n",
      "Round: 300 ,Feature: 158 ,Threshold: -4.5 ,Round_err: 0.47615950849204725 ,Train_err: 0.06060353451150383 ,Test_err: 0.0789 AUC: 0.9184621648821347\n",
      "36\n",
      "Round: 100 ,Feature: 88 ,Threshold: 12.5 ,Round_err: 0.5309460858221343 ,Train_err: 0.08452817605868623 ,Test_err: 0.0943 AUC: 0.9071549744014096\n",
      "Round: 200 ,Feature: 28 ,Threshold: 3.5 ,Round_err: 0.47632261688032645 ,Train_err: 0.06327109036345449 ,Test_err: 0.0784 AUC: 0.9227756724852417\n",
      "Round: 300 ,Feature: 32 ,Threshold: 9.5 ,Round_err: 0.4765957773263473 ,Train_err: 0.056018672890963656 ,Test_err: 0.0708 AUC: 0.9293058493483833\n",
      "37\n",
      "Round: 100 ,Feature: 81 ,Threshold: -12.5 ,Round_err: 0.5354255967350301 ,Train_err: 0.07902634211403801 ,Test_err: 0.0856 AUC: 0.9092757745587089\n"
     ]
    },
    {
     "name": "stdout",
     "output_type": "stream",
     "text": [
      "Round: 200 ,Feature: 190 ,Threshold: 21.5 ,Round_err: 0.5292630066449069 ,Train_err: 0.06377125708569523 ,Test_err: 0.074 AUC: 0.9194167048720197\n",
      "Round: 300 ,Feature: 54 ,Threshold: -3.5 ,Round_err: 0.47373361911215817 ,Train_err: 0.0559353117705902 ,Test_err: 0.0675 AUC: 0.9239489239227539\n",
      "38\n",
      "Round: 100 ,Feature: 130 ,Threshold: 10.5 ,Round_err: 0.46586277180913926 ,Train_err: 0.09853284428142714 ,Test_err: 0.1066 AUC: 0.8917101495956807\n",
      "Round: 200 ,Feature: 46 ,Threshold: -3.5 ,Round_err: 0.4733341812545086 ,Train_err: 0.07810936978992998 ,Test_err: 0.0936 AUC: 0.902678869189246\n",
      "Round: 300 ,Feature: 5 ,Threshold: -5.5 ,Round_err: 0.4818714915204212 ,Train_err: 0.06910636878959653 ,Test_err: 0.0868 AUC: 0.9099000964630924\n",
      "39\n",
      "Round: 100 ,Feature: 62 ,Threshold: -8.5 ,Round_err: 0.45246099382639 ,Train_err: 0.057685895298432814 ,Test_err: 0.0643 AUC: 0.914403657132149\n",
      "Round: 200 ,Feature: 161 ,Threshold: -5.5 ,Round_err: 0.47251999749623946 ,Train_err: 0.046098699566522176 ,Test_err: 0.057 AUC: 0.9219696925333123\n",
      "Round: 300 ,Feature: 169 ,Threshold: 39.5 ,Round_err: 0.4752961114158671 ,Train_err: 0.03984661553851284 ,Test_err: 0.0515 AUC: 0.9242714684951185\n",
      "40\n",
      "Round: 100 ,Feature: 13 ,Threshold: 1.5 ,Round_err: 0.5438472297315392 ,Train_err: 0.05043347782594198 ,Test_err: 0.0561 AUC: 0.9436743054804161\n",
      "Round: 200 ,Feature: 77 ,Threshold: -17.5 ,Round_err: 0.4661115025653424 ,Train_err: 0.03934644881627209 ,Test_err: 0.0485 AUC: 0.9536961951879439\n",
      "Round: 300 ,Feature: 102 ,Threshold: 29.5 ,Round_err: 0.5318891892340496 ,Train_err: 0.03317772590863621 ,Test_err: 0.0432 AUC: 0.9567096737772444\n",
      "41\n",
      "Round: 100 ,Feature: 101 ,Threshold: -12.5 ,Round_err: 0.45427213106552133 ,Train_err: 0.03976325441813938 ,Test_err: 0.0406 AUC: 0.9298968491215851\n",
      "Round: 200 ,Feature: 134 ,Threshold: 0.5 ,Round_err: 0.5353341695791334 ,Train_err: 0.029926642214071358 ,Test_err: 0.0344 AUC: 0.9346924821995202\n",
      "Round: 300 ,Feature: 134 ,Threshold: 0.5 ,Round_err: 0.5295274564850729 ,Train_err: 0.025008336112037347 ,Test_err: 0.032 AUC: 0.9359020199674948\n",
      "42\n",
      "Round: 100 ,Feature: 148 ,Threshold: -2.5 ,Round_err: 0.5476995611410035 ,Train_err: 0.04859953317772591 ,Test_err: 0.0643 AUC: 0.9081677058899565\n",
      "Round: 200 ,Feature: 194 ,Threshold: 1.5 ,Round_err: 0.5323179528285591 ,Train_err: 0.0399299766588863 ,Test_err: 0.053 AUC: 0.9154544611723794\n",
      "Round: 300 ,Feature: 139 ,Threshold: 5.5 ,Round_err: 0.4748276480552336 ,Train_err: 0.033761253751250414 ,Test_err: 0.0497 AUC: 0.9172557864677916\n",
      "43\n",
      "Round: 100 ,Feature: 84 ,Threshold: 17.5 ,Round_err: 0.4620703398777652 ,Train_err: 0.07260753584528176 ,Test_err: 0.0727 AUC: 0.9393482447315065\n",
      "Round: 200 ,Feature: 27 ,Threshold: 15.5 ,Round_err: 0.5244504512320886 ,Train_err: 0.05701900633544515 ,Test_err: 0.0633 AUC: 0.9486771886136028\n",
      "Round: 300 ,Feature: 84 ,Threshold: 17.5 ,Round_err: 0.47395588462144966 ,Train_err: 0.05093364454818273 ,Test_err: 0.0594 AUC: 0.9526989989094372\n",
      "44\n",
      "Round: 100 ,Feature: 196 ,Threshold: 17.5 ,Round_err: 0.5398186607359644 ,Train_err: 0.08486162054018007 ,Test_err: 0.0871 AUC: 0.926814868308398\n",
      "Round: 200 ,Feature: 171 ,Threshold: -31.5 ,Round_err: 0.5263226761141333 ,Train_err: 0.06602200733577859 ,Test_err: 0.0712 AUC: 0.9383896880463982\n",
      "Round: 300 ,Feature: 95 ,Threshold: -11.5 ,Round_err: 0.5235516621819616 ,Train_err: 0.06018672890963655 ,Test_err: 0.0667 AUC: 0.9420145511425014\n",
      "45\n",
      "Round: 100 ,Feature: 98 ,Threshold: 15.5 ,Round_err: 0.4609440386498947 ,Train_err: 0.04176392130710237 ,Test_err: 0.0452 AUC: 0.8927823224966125\n",
      "Round: 200 ,Feature: 40 ,Threshold: 13.5 ,Round_err: 0.4695672315174283 ,Train_err: 0.03317772590863621 ,Test_err: 0.0403 AUC: 0.8915240601488188\n",
      "Round: 300 ,Feature: 125 ,Threshold: -27.5 ,Round_err: 0.5257650292153528 ,Train_err: 0.028592864288096032 ,Test_err: 0.0383 AUC: 0.8919912094223887\n",
      "46\n",
      "Round: 100 ,Feature: 84 ,Threshold: 29.5 ,Round_err: 0.46503681623879956 ,Train_err: 0.08986328776258753 ,Test_err: 0.1014 AUC: 0.9076542943029487\n",
      "Round: 200 ,Feature: 164 ,Threshold: -5.5 ,Round_err: 0.475510927659332 ,Train_err: 0.07044014671557186 ,Test_err: 0.0861 AUC: 0.9199246690762954\n",
      "Round: 300 ,Feature: 37 ,Threshold: 6.5 ,Round_err: 0.5244637680593611 ,Train_err: 0.06243747915971991 ,Test_err: 0.0799 AUC: 0.9274501162786042\n",
      "47\n",
      "Round: 100 ,Feature: 45 ,Threshold: -1.5 ,Round_err: 0.4625164878825629 ,Train_err: 0.0596865621873958 ,Test_err: 0.0625 AUC: 0.8641433240454326\n",
      "Round: 200 ,Feature: 127 ,Threshold: -2.5 ,Round_err: 0.5248773822751895 ,Train_err: 0.04934978326108703 ,Test_err: 0.055 AUC: 0.8740809266035169\n",
      "Round: 300 ,Feature: 173 ,Threshold: -31.5 ,Round_err: 0.4760319675019762 ,Train_err: 0.04326442147382461 ,Test_err: 0.0506 AUC: 0.87423805486682\n",
      "48\n",
      "Round: 100 ,Feature: 39 ,Threshold: -0.5 ,Round_err: 0.5384353480504876 ,Train_err: 0.06110370123374458 ,Test_err: 0.0614 AUC: 0.9439260146845361\n",
      "Round: 200 ,Feature: 81 ,Threshold: -6.5 ,Round_err: 0.5271806864428932 ,Train_err: 0.04759919973324441 ,Test_err: 0.0539 AUC: 0.9522292719708364\n",
      "Round: 300 ,Feature: 157 ,Threshold: -4.5 ,Round_err: 0.4720558221514802 ,Train_err: 0.04326442147382461 ,Test_err: 0.0498 AUC: 0.9560912516388206\n",
      "49\n",
      "Round: 100 ,Feature: 41 ,Threshold: 29.5 ,Round_err: 0.46483452262449476 ,Train_err: 0.08036012004001333 ,Test_err: 0.0831 AUC: 0.909661457638391\n",
      "Round: 200 ,Feature: 72 ,Threshold: 15.5 ,Round_err: 0.5293033074046875 ,Train_err: 0.06710570190063354 ,Test_err: 0.0717 AUC: 0.9216082219485509\n",
      "Round: 300 ,Feature: 168 ,Threshold: 6.5 ,Round_err: 0.4787209623434744 ,Train_err: 0.057852617539179724 ,Test_err: 0.0676 AUC: 0.9243547290909742\n"
     ]
    }
   ],
   "source": [
    "final_codes,codes=ecoc(final_train,final_test,10,50)"
   ]
  },
  {
   "cell_type": "code",
   "execution_count": 83,
   "metadata": {},
   "outputs": [],
   "source": [
    "def accuracy(actual,pred):\n",
    "    return np.mean(actual==pred)"
   ]
  },
  {
   "cell_type": "code",
   "execution_count": 85,
   "metadata": {},
   "outputs": [
    {
     "name": "stdout",
     "output_type": "stream",
     "text": [
      "[50 23 21 27 25 23 31 26 24 25]\n",
      "[23 50 28 26 24 30 22 27 29 26]\n",
      "[21 28 50 28 16 24 22 25 27 28]\n",
      "[27 26 28 50 22 34 28 29 29 22]\n",
      "[25 24 16 22 50 26 30 29 21 24]\n",
      "[23 30 24 34 26 50 24 25 25 20]\n",
      "[31 22 22 28 30 24 50 31 23 26]\n",
      "[26 27 25 29 29 25 31 50 26 25]\n",
      "[24 29 27 29 21 25 23 26 50 21]\n",
      "[25 26 28 22 24 20 26 25 21 50]\n"
     ]
    }
   ],
   "source": [
    "for i in codes:\n",
    "    print(np.sum(i==codes,axis=1))"
   ]
  },
  {
   "cell_type": "code",
   "execution_count": 87,
   "metadata": {},
   "outputs": [
    {
     "name": "stdout",
     "output_type": "stream",
     "text": [
      "Accuracy on Digits dataset using ECOC is:  0.9255\n"
     ]
    }
   ],
   "source": [
    "preds=np.argmax(cos(final_codes,codes),axis=1)\n",
    "print(\"Accuracy on Digits dataset using ECOC is: \",accuracy(final_test[:,-1],preds))"
   ]
  },
  {
   "cell_type": "code",
   "execution_count": null,
   "metadata": {},
   "outputs": [],
   "source": []
  },
  {
   "cell_type": "code",
   "execution_count": null,
   "metadata": {},
   "outputs": [],
   "source": []
  }
 ],
 "metadata": {
  "kernelspec": {
   "display_name": "Python 3",
   "language": "python",
   "name": "python3"
  },
  "language_info": {
   "codemirror_mode": {
    "name": "ipython",
    "version": 3
   },
   "file_extension": ".py",
   "mimetype": "text/x-python",
   "name": "python",
   "nbconvert_exporter": "python",
   "pygments_lexer": "ipython3",
   "version": "3.6.5"
  }
 },
 "nbformat": 4,
 "nbformat_minor": 2
}
